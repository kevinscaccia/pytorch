{
 "cells": [
  {
   "cell_type": "code",
   "execution_count": 5,
   "metadata": {},
   "outputs": [],
   "source": [
    "# %%capture\n",
    "# !python3 -m pip install -r ../requirements.txt"
   ]
  },
  {
   "cell_type": "markdown",
   "metadata": {},
   "source": [
    "---\n",
    "## Imports"
   ]
  },
  {
   "cell_type": "code",
   "execution_count": 1,
   "metadata": {},
   "outputs": [],
   "source": [
    "import torch\n",
    "from torch import nn\n",
    "from torchvision import datasets, transforms\n",
    "from torcheval import metrics\n",
    "import matplotlib.pyplot as plt\n",
    "import PIL\n",
    "import time"
   ]
  },
  {
   "cell_type": "markdown",
   "metadata": {},
   "source": [
    "---\n",
    "# Data Preproc"
   ]
  },
  {
   "cell_type": "code",
   "execution_count": 2,
   "metadata": {},
   "outputs": [
    {
     "name": "stdout",
     "output_type": "stream",
     "text": [
      "Dataset MNIST\n",
      "    Number of datapoints: 60000\n",
      "    Root location: ../data\n",
      "    Split: Train\n",
      "    StandardTransform\n",
      "Transform: ToTensor() Dataset MNIST\n",
      "    Number of datapoints: 10000\n",
      "    Root location: ../data\n",
      "    Split: Test\n",
      "    StandardTransform\n",
      "Transform: ToTensor()\n"
     ]
    }
   ],
   "source": [
    "train_data = datasets.MNIST(root='../data', download=True, train=True, \n",
    "                            transform=transforms.ToTensor())\n",
    "test_data = datasets.MNIST(root='../data', download=True, train=False, \n",
    "                            transform=transforms.ToTensor())\n",
    "# conv 3d format (n_samples, n_channels, dim_x, dim_y)\n",
    "train_x = (train_data.data.type(torch.float32)/255.0).view(-1, 1, 28, 28) # minmax\n",
    "test_x = (test_data.data.type(torch.float32)/255.0).view(-1, 1, 28, 28) # minmax\n",
    "\n",
    "train_y = torch.nn.functional.one_hot(train_data.targets).type(torch.float32)\n",
    "test_y = test_data.targets # no one hot\n",
    "print(train_data, test_data)"
   ]
  },
  {
   "cell_type": "markdown",
   "metadata": {},
   "source": [
    "---\n",
    "## Model Definition"
   ]
  },
  {
   "cell_type": "code",
   "execution_count": 3,
   "metadata": {},
   "outputs": [
    {
     "name": "stdout",
     "output_type": "stream",
     "text": [
      "Sequential(\n",
      "  (0): Conv2d(1, 16, kernel_size=(5, 5), stride=(1, 1))\n",
      "  (1): ReLU()\n",
      "  (2): MaxPool2d(kernel_size=2, stride=2, padding=0, dilation=1, ceil_mode=False)\n",
      "  (3): Conv2d(16, 32, kernel_size=(5, 5), stride=(1, 1))\n",
      "  (4): ReLU()\n",
      "  (5): MaxPool2d(kernel_size=2, stride=2, padding=0, dilation=1, ceil_mode=False)\n",
      "  (6): Flatten(start_dim=1, end_dim=-1)\n",
      "  (7): Linear(in_features=512, out_features=10, bias=True)\n",
      ")\n"
     ]
    }
   ],
   "source": [
    "n_classes = 10  \n",
    "model = nn.Sequential(\n",
    "        nn.Conv2d(in_channels=1, out_channels=16, kernel_size=5),\n",
    "        nn.ReLU(),\n",
    "        nn.MaxPool2d(kernel_size=2),\n",
    "\n",
    "        nn.Conv2d(in_channels=16, out_channels=32, kernel_size=5),\n",
    "        nn.ReLU(),\n",
    "        nn.MaxPool2d(kernel_size=2),\n",
    "\n",
    "        nn.Flatten(start_dim=1),\n",
    "        nn.Linear(32*16, n_classes),\n",
    ")\n",
    "\n",
    "model(train_x[0:1]).shape\n",
    "print(model)"
   ]
  },
  {
   "cell_type": "markdown",
   "metadata": {},
   "source": [
    "---\n",
    "## Evaluation (before training)"
   ]
  },
  {
   "cell_type": "code",
   "execution_count": 4,
   "metadata": {},
   "outputs": [
    {
     "name": "stdout",
     "output_type": "stream",
     "text": [
      "torch.Size([10000, 10])\n",
      "torch.Size([10000])\n",
      "Accuracy: 13.35%\n",
      "Precision: 13.35%\n",
      "Recall: 13.35%\n"
     ]
    }
   ],
   "source": [
    "def evaluate(current_model):\n",
    "    test_pred_y = torch.nn.functional.softmax(current_model(test_x), dim=1)\n",
    "    print(test_pred_y.shape)\n",
    "    test_pred_y = torch.argmax(test_pred_y, dim=1).to('cpu')\n",
    "    print(test_pred_y.shape)\n",
    "    #\n",
    "    acc = metrics.functional.multiclass_accuracy(test_pred_y, test_y.to('cpu')).numpy()\n",
    "    prec = metrics.functional.multiclass_precision(test_pred_y, test_y.to('cpu')).numpy()\n",
    "    rec = metrics.functional.multiclass_recall(test_pred_y, test_y.to('cpu')).numpy()\n",
    "    print(f\"Accuracy: {acc*100:.2f}%\\nPrecision: {prec*100:.2f}%\\nRecall: {rec*100:.2f}%\")\n",
    "\n",
    "evaluate(model)"
   ]
  },
  {
   "cell_type": "markdown",
   "metadata": {},
   "source": [
    "--- \n",
    "## Model Train"
   ]
  },
  {
   "cell_type": "code",
   "execution_count": 5,
   "metadata": {},
   "outputs": [
    {
     "name": "stdout",
     "output_type": "stream",
     "text": [
      "Moved data and model to GPU cuda:0\n"
     ]
    }
   ],
   "source": [
    "if torch.cuda.is_available:\n",
    "    device = torch.device(\"cuda:0\")\n",
    "    train_x = train_x.to(device)\n",
    "    train_y = train_y.to(device)\n",
    "    #\n",
    "\n",
    "    test_x = test_x.to(device)\n",
    "    test_y = test_y.to(device)\n",
    "    model = model.to(device)\n",
    "    #\n",
    "    print('Moved data and model to GPU',device)"
   ]
  },
  {
   "cell_type": "code",
   "execution_count": 6,
   "metadata": {},
   "outputs": [
    {
     "name": "stdout",
     "output_type": "stream",
     "text": [
      "Epoch 0(0.24s) loss: 0.000227\n",
      "Epoch 1(0.01s) loss: 0.000054\n",
      "Epoch 2(0.01s) loss: 0.000031\n",
      "Epoch 3(0.02s) loss: 0.000021\n",
      "Epoch 4(0.02s) loss: 0.000017\n",
      "Epoch 5(0.01s) loss: 0.000014\n",
      "Epoch 6(0.01s) loss: 0.000012\n",
      "Epoch 7(0.02s) loss: 0.000010\n",
      "Epoch 8(0.01s) loss: 0.000009\n",
      "Epoch 9(0.01s) loss: 0.000007\n",
      "Epoch 10(0.02s) loss: 0.000007\n",
      "Epoch 11(0.01s) loss: 0.000006\n",
      "Epoch 12(0.01s) loss: 0.000006\n",
      "Epoch 13(0.01s) loss: 0.000005\n",
      "Epoch 14(0.01s) loss: 0.000005\n",
      "Epoch 15(0.01s) loss: 0.000004\n",
      "Epoch 16(0.01s) loss: 0.000004\n",
      "Epoch 17(0.02s) loss: 0.000004\n",
      "Epoch 18(0.02s) loss: 0.000004\n",
      "Epoch 19(0.01s) loss: 0.000004\n",
      "Epoch 20(0.01s) loss: 0.000005\n",
      "Epoch 21(0.02s) loss: 0.000005\n",
      "Epoch 22(0.01s) loss: 0.000004\n",
      "Epoch 23(0.02s) loss: 0.000003\n",
      "Epoch 24(0.01s) loss: 0.000003\n",
      "Epoch 25(0.01s) loss: 0.000003\n",
      "Epoch 26(0.02s) loss: 0.000003\n",
      "Epoch 27(0.01s) loss: 0.000003\n",
      "Epoch 28(0.01s) loss: 0.000002\n",
      "Epoch 29(0.01s) loss: 0.000002\n"
     ]
    },
    {
     "data": {
      "text/plain": [
       "[<matplotlib.lines.Line2D at 0x7f7e2b6aeb60>]"
      ]
     },
     "execution_count": 6,
     "metadata": {},
     "output_type": "execute_result"
    },
    {
     "data": {
      "image/png": "[encoded data removed]",
      "text/plain": [
       "<Figure size 640x480 with 1 Axes>"
      ]
     },
     "metadata": {},
     "output_type": "display_data"
    }
   ],
   "source": [
    "epochs = 30\n",
    "batch_size = 1024*4\n",
    "losses = []\n",
    "optimizer = torch.optim.Adam(model.parameters(), lr=1e-2)\n",
    "\n",
    "for epoch in range(epochs):\n",
    "    loss_sum = 0\n",
    "    time_epoch = time.time()\n",
    "    for i in range(0, len(train_x), batch_size):\n",
    "        batch_x = train_x[i:i + batch_size]\n",
    "        batch_y = train_y[i:i + batch_size]\n",
    "        optimizer.zero_grad()\n",
    "        # forward pass\n",
    "        y_pred = model(batch_x)\n",
    "        # loss computation\n",
    "        loss = torch.nn.functional.cross_entropy(y_pred, batch_y)\n",
    "        loss.backward() # compute gradients\n",
    "        loss_sum += loss.data\n",
    "        # weight update\n",
    "        optimizer.step()\n",
    "    cost = loss_sum/len(train_x)\n",
    "    losses.append(cost)\n",
    "    time_epoch = time.time() - time_epoch\n",
    "    print(f\"Epoch {epoch}({time_epoch:.2f}s) loss: {cost:.6f}\")\n",
    "\n",
    "losses = [l.to('cpu') for l in losses]\n",
    "plt.plot(losses)"
   ]
  },
  {
   "cell_type": "markdown",
   "metadata": {},
   "source": [
    "---\n",
    "## Evaluation (After training)"
   ]
  },
  {
   "cell_type": "code",
   "execution_count": 7,
   "metadata": {},
   "outputs": [
    {
     "name": "stdout",
     "output_type": "stream",
     "text": [
      "torch.Size([10000, 10])\n",
      "torch.Size([10000])\n",
      "Accuracy: 99.04%\n",
      "Precision: 99.04%\n",
      "Recall: 99.04%\n"
     ]
    }
   ],
   "source": [
    "evaluate(model)"
   ]
  },
  {
   "cell_type": "markdown",
   "metadata": {},
   "source": [
    "---\n",
    "## Model Save and Load"
   ]
  },
  {
   "cell_type": "code",
   "execution_count": 8,
   "metadata": {},
   "outputs": [],
   "source": [
    "torch.save(model, './model_cnn_mnist.torch')"
   ]
  },
  {
   "cell_type": "code",
   "execution_count": 9,
   "metadata": {},
   "outputs": [
    {
     "data": {
      "text/plain": [
       "Sequential(\n",
       "  (0): Conv2d(1, 16, kernel_size=(5, 5), stride=(1, 1))\n",
       "  (1): ReLU()\n",
       "  (2): MaxPool2d(kernel_size=2, stride=2, padding=0, dilation=1, ceil_mode=False)\n",
       "  (3): Conv2d(16, 32, kernel_size=(5, 5), stride=(1, 1))\n",
       "  (4): ReLU()\n",
       "  (5): MaxPool2d(kernel_size=2, stride=2, padding=0, dilation=1, ceil_mode=False)\n",
       "  (6): Flatten(start_dim=1, end_dim=-1)\n",
       "  (7): Linear(in_features=512, out_features=10, bias=True)\n",
       ")"
      ]
     },
     "execution_count": 9,
     "metadata": {},
     "output_type": "execute_result"
    }
   ],
   "source": [
    "model = torch.load('./model_cnn_mnist.torch')\n",
    "model"
   ]
  },
  {
   "cell_type": "markdown",
   "metadata": {},
   "source": [
    "---\n",
    "## Model Predict"
   ]
  },
  {
   "cell_type": "code",
   "execution_count": 10,
   "metadata": {},
   "outputs": [
    {
     "ename": "FileNotFoundError",
     "evalue": "[Errno 2] No such file or directory: './test_e.jpg'",
     "output_type": "error",
     "traceback": [
      "\u001b[0;31m---------------------------------------------------------------------------\u001b[0m",
      "\u001b[0;31mFileNotFoundError\u001b[0m                         Traceback (most recent call last)",
      "Cell \u001b[0;32mIn[10], line 2\u001b[0m\n\u001b[1;32m      1\u001b[0m path \u001b[38;5;241m=\u001b[39m \u001b[38;5;124m'\u001b[39m\u001b[38;5;124m./test_e.jpg\u001b[39m\u001b[38;5;124m'\u001b[39m\n\u001b[0;32m----> 2\u001b[0m img \u001b[38;5;241m=\u001b[39m \u001b[43mPIL\u001b[49m\u001b[38;5;241;43m.\u001b[39;49m\u001b[43mImage\u001b[49m\u001b[38;5;241;43m.\u001b[39;49m\u001b[43mopen\u001b[49m\u001b[43m(\u001b[49m\u001b[43mpath\u001b[49m\u001b[43m)\u001b[49m\u001b[38;5;241m.\u001b[39mconvert(\u001b[38;5;124m'\u001b[39m\u001b[38;5;124mL\u001b[39m\u001b[38;5;124m'\u001b[39m)\n\u001b[1;32m      3\u001b[0m img \u001b[38;5;241m=\u001b[39m PIL\u001b[38;5;241m.\u001b[39mImageOps\u001b[38;5;241m.\u001b[39misnvert(img)\n\u001b[1;32m      4\u001b[0m img_width \u001b[38;5;241m=\u001b[39m \u001b[38;5;241m28\u001b[39m\n",
      "File \u001b[0;32m~/miniconda3/envs/pytorch/lib/python3.10/site-packages/PIL/Image.py:3243\u001b[0m, in \u001b[0;36mopen\u001b[0;34m(fp, mode, formats)\u001b[0m\n\u001b[1;32m   3240\u001b[0m     filename \u001b[38;5;241m=\u001b[39m fp\n\u001b[1;32m   3242\u001b[0m \u001b[38;5;28;01mif\u001b[39;00m filename:\n\u001b[0;32m-> 3243\u001b[0m     fp \u001b[38;5;241m=\u001b[39m \u001b[43mbuiltins\u001b[49m\u001b[38;5;241;43m.\u001b[39;49m\u001b[43mopen\u001b[49m\u001b[43m(\u001b[49m\u001b[43mfilename\u001b[49m\u001b[43m,\u001b[49m\u001b[43m \u001b[49m\u001b[38;5;124;43m\"\u001b[39;49m\u001b[38;5;124;43mrb\u001b[39;49m\u001b[38;5;124;43m\"\u001b[39;49m\u001b[43m)\u001b[49m\n\u001b[1;32m   3244\u001b[0m     exclusive_fp \u001b[38;5;241m=\u001b[39m \u001b[38;5;28;01mTrue\u001b[39;00m\n\u001b[1;32m   3246\u001b[0m \u001b[38;5;28;01mtry\u001b[39;00m:\n",
      "\u001b[0;31mFileNotFoundError\u001b[0m: [Errno 2] No such file or directory: './test_e.jpg'"
     ]
    }
   ],
   "source": [
    "path = './test_e.jpg'\n",
    "img = PIL.Image.open(path).convert('L')\n",
    "img = PIL.ImageOps.isnvert(img)\n",
    "img_width = 28\n",
    "img = transforms.Resize((img_width, img_width))(img)\n",
    "img = transforms.ToTensor()(img)\n",
    "img_tensor = img.view(1,1,img_width,img_width)\n",
    "# print(img_tensor.mean())\n",
    "# # Atribua 1 aos elementos diferentes de zero\n",
    "# img_tensor[ (img_tensor != 0)] = 1\n",
    "# print(img_tensor.mean())\n",
    "\n",
    "\n",
    "with torch.no_grad():\n",
    "    y = model(img_tensor)\n",
    "    y = torch.nn.functional.softmax(y, dim=1)\n",
    "print('Resultado:', torch.argmax(y))"
   ]
  }
 ],
 "metadata": {
  "kernelspec": {
   "display_name": "Python 3",
   "language": "python",
   "name": "python3"
  },
  "language_info": {
   "codemirror_mode": {
    "name": "ipython",
    "version": 3
   },
   "file_extension": ".py",
   "mimetype": "text/x-python",
   "name": "python",
   "nbconvert_exporter": "python",
   "pygments_lexer": "ipython3",
   "version": "3.10.13"
  }
 },
 "nbformat": 4,
 "nbformat_minor": 2
}
