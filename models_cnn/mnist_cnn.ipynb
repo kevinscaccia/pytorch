{
 "cells": [
  {
   "cell_type": "code",
   "execution_count": 15,
   "metadata": {},
   "outputs": [],
   "source": [
    "%%capture\n",
    "!python3 -m pip3 install -r ../requirements.txt"
   ]
  },
  {
   "cell_type": "markdown",
   "metadata": {},
   "source": [
    "---\n",
    "## Imports"
   ]
  },
  {
   "cell_type": "code",
   "execution_count": 1,
   "metadata": {},
   "outputs": [],
   "source": [
    "import torch\n",
    "from torch import nn\n",
    "from torchvision import datasets, transforms\n",
    "from torcheval import metrics\n",
    "import matplotlib.pyplot as plt\n",
    "import PIL"
   ]
  },
  {
   "cell_type": "markdown",
   "metadata": {},
   "source": [
    "---\n",
    "# Data Preproc"
   ]
  },
  {
   "cell_type": "code",
   "execution_count": 2,
   "metadata": {},
   "outputs": [
    {
     "name": "stdout",
     "output_type": "stream",
     "text": [
      "Dataset MNIST\n",
      "    Number of datapoints: 60000\n",
      "    Root location: ../data\n",
      "    Split: Train\n",
      "    StandardTransform\n",
      "Transform: ToTensor() Dataset MNIST\n",
      "    Number of datapoints: 10000\n",
      "    Root location: ../data\n",
      "    Split: Test\n",
      "    StandardTransform\n",
      "Transform: ToTensor()\n"
     ]
    }
   ],
   "source": [
    "train_data = datasets.MNIST(root='../data', download=True, train=True, \n",
    "                            transform=transforms.ToTensor())\n",
    "test_data = datasets.MNIST(root='../data', download=True, train=False, \n",
    "                            transform=transforms.ToTensor())\n",
    "# conv 3d format (n_samples, n_channels, dim_x, dim_y)\n",
    "train_x = (train_data.data.type(torch.float32)/255.0).view(-1, 1, 28, 28) # minmax\n",
    "test_x = (test_data.data.type(torch.float32)/255.0).view(-1, 1, 28, 28) # minmax\n",
    "\n",
    "train_y = torch.nn.functional.one_hot(train_data.targets).type(torch.float32)\n",
    "test_y = test_data.targets # no one hot\n",
    "print(train_data, test_data)"
   ]
  },
  {
   "cell_type": "markdown",
   "metadata": {},
   "source": [
    "---\n",
    "## Model Definition"
   ]
  },
  {
   "cell_type": "code",
   "execution_count": 3,
   "metadata": {},
   "outputs": [
    {
     "name": "stdout",
     "output_type": "stream",
     "text": [
      "Sequential(\n",
      "  (0): Conv2d(1, 16, kernel_size=(5, 5), stride=(1, 1))\n",
      "  (1): ReLU()\n",
      "  (2): MaxPool2d(kernel_size=2, stride=2, padding=0, dilation=1, ceil_mode=False)\n",
      "  (3): Conv2d(16, 32, kernel_size=(5, 5), stride=(1, 1))\n",
      "  (4): ReLU()\n",
      "  (5): MaxPool2d(kernel_size=2, stride=2, padding=0, dilation=1, ceil_mode=False)\n",
      "  (6): Flatten(start_dim=1, end_dim=-1)\n",
      "  (7): Linear(in_features=512, out_features=10, bias=True)\n",
      ")\n"
     ]
    }
   ],
   "source": [
    "n_classes = 10  \n",
    "model = nn.Sequential(\n",
    "        nn.Conv2d(in_channels=1, out_channels=16, kernel_size=5),\n",
    "        nn.ReLU(),\n",
    "        nn.MaxPool2d(kernel_size=2),\n",
    "\n",
    "        nn.Conv2d(in_channels=16, out_channels=32, kernel_size=5),\n",
    "        nn.ReLU(),\n",
    "        nn.MaxPool2d(kernel_size=2),\n",
    "\n",
    "        nn.Flatten(start_dim=1),\n",
    "        nn.Linear(32*16, n_classes),\n",
    ")\n",
    "\n",
    "model(train_x[0:1]).shape\n",
    "print(model)"
   ]
  },
  {
   "cell_type": "markdown",
   "metadata": {},
   "source": [
    "---\n",
    "## Evaluation (before training)"
   ]
  },
  {
   "cell_type": "code",
   "execution_count": 7,
   "metadata": {},
   "outputs": [
    {
     "name": "stdout",
     "output_type": "stream",
     "text": [
      "torch.Size([10000, 10])\n",
      "torch.Size([10000])\n",
      "Accuracy: 10.62%\n",
      "Precision: 10.62%\n",
      "Recall: 10.62%\n"
     ]
    }
   ],
   "source": [
    "def evaluate(current_model):\n",
    "    test_pred_y = torch.nn.functional.softmax(current_model(test_x), dim=1)\n",
    "    print(test_pred_y.shape)\n",
    "    test_pred_y = torch.argmax(test_pred_y, dim=1)\n",
    "    print(test_pred_y.shape)\n",
    "    #\n",
    "    acc = metrics.functional.multiclass_accuracy(test_pred_y, test_y).numpy()\n",
    "    prec = metrics.functional.multiclass_precision(test_pred_y, test_y).numpy()\n",
    "    rec = metrics.functional.multiclass_recall(test_pred_y, test_y).numpy()\n",
    "    print(f\"Accuracy: {acc*100:.2f}%\\nPrecision: {prec*100:.2f}%\\nRecall: {rec*100:.2f}%\")\n",
    "\n",
    "evaluate(model)"
   ]
  },
  {
   "cell_type": "markdown",
   "metadata": {},
   "source": [
    "--- \n",
    "## Model Train"
   ]
  },
  {
   "cell_type": "code",
   "execution_count": 4,
   "metadata": {},
   "outputs": [
    {
     "name": "stdout",
     "output_type": "stream",
     "text": [
      "Epoch 0 loss: 0.000370\n",
      "Epoch 1 loss: 0.000074\n",
      "Epoch 2 loss: 0.000049\n",
      "Epoch 3 loss: 0.000038\n",
      "Epoch 4 loss: 0.000032\n",
      "Epoch 5 loss: 0.000028\n",
      "Epoch 6 loss: 0.000024\n",
      "Epoch 7 loss: 0.000020\n",
      "Epoch 8 loss: 0.000019\n",
      "Epoch 9 loss: 0.000019\n",
      "Epoch 10 loss: 0.000021\n",
      "Epoch 11 loss: 0.000018\n",
      "Epoch 12 loss: 0.000013\n",
      "Epoch 13 loss: 0.000010\n",
      "Epoch 14 loss: 0.000010\n",
      "Epoch 15 loss: 0.000010\n",
      "Epoch 16 loss: 0.000010\n",
      "Epoch 17 loss: 0.000010\n",
      "Epoch 18 loss: 0.000009\n",
      "Epoch 19 loss: 0.000009\n",
      "Epoch 20 loss: 0.000007\n",
      "Epoch 21 loss: 0.000007\n",
      "Epoch 22 loss: 0.000005\n",
      "Epoch 23 loss: 0.000005\n",
      "Epoch 24 loss: 0.000005\n",
      "Epoch 25 loss: 0.000009\n",
      "Epoch 26 loss: 0.000009\n",
      "Epoch 27 loss: 0.000009\n",
      "Epoch 28 loss: 0.000009\n",
      "Epoch 29 loss: 0.000007\n",
      "Epoch 30 loss: 0.000005\n",
      "Epoch 31 loss: 0.000004\n"
     ]
    },
    {
     "data": {
      "text/plain": [
       "[<matplotlib.lines.Line2D at 0x16c1d1f90>]"
      ]
     },
     "execution_count": 4,
     "metadata": {},
     "output_type": "execute_result"
    },
    {
     "data": {
      "image/png": "[encoded data removed]",
      "text/plain": [
       "<Figure size 640x480 with 1 Axes>"
      ]
     },
     "metadata": {},
     "output_type": "display_data"
    }
   ],
   "source": [
    "epochs = 32\n",
    "batch_size = 1024\n",
    "losses = []\n",
    "optimizer = torch.optim.Adam(model.parameters(), lr=1e-2)\n",
    "\n",
    "for epoch in range(epochs):\n",
    "    loss_sum = 0\n",
    "    for i in range(0, len(train_x), batch_size):\n",
    "        batch_x = train_x[i:i + batch_size]\n",
    "        batch_y = train_y[i:i + batch_size]\n",
    "        optimizer.zero_grad()\n",
    "        # forward pass\n",
    "        y_pred = model(batch_x)\n",
    "        # loss computation\n",
    "        loss = torch.nn.functional.cross_entropy(y_pred, batch_y)\n",
    "        loss.backward() # compute gradients\n",
    "        loss_sum += loss.data\n",
    "        # weight update\n",
    "        optimizer.step()\n",
    "    cost = loss_sum/len(train_x)\n",
    "    losses.append(cost)\n",
    "    \n",
    "    print(f\"Epoch {epoch} loss: {cost:.6f}\")\n",
    "    \n",
    "plt.plot(losses)"
   ]
  },
  {
   "cell_type": "markdown",
   "metadata": {},
   "source": [
    "---\n",
    "## Evaluation (After training)"
   ]
  },
  {
   "cell_type": "code",
   "execution_count": 15,
   "metadata": {},
   "outputs": [
    {
     "name": "stdout",
     "output_type": "stream",
     "text": [
      "torch.Size([10000, 10])\n",
      "torch.Size([10000])\n",
      "Accuracy: 99.02%\n",
      "Precision: 99.02%\n",
      "Recall: 99.02%\n"
     ]
    }
   ],
   "source": [
    "evaluate(model)"
   ]
  },
  {
   "cell_type": "markdown",
   "metadata": {},
   "source": [
    "---\n",
    "## Model Save and Load"
   ]
  },
  {
   "cell_type": "code",
   "execution_count": 13,
   "metadata": {},
   "outputs": [],
   "source": [
    "torch.save(model, './model_cnn_mnist.torch')"
   ]
  },
  {
   "cell_type": "code",
   "execution_count": 14,
   "metadata": {},
   "outputs": [
    {
     "data": {
      "text/plain": [
       "Sequential(\n",
       "  (0): Conv2d(1, 16, kernel_size=(5, 5), stride=(1, 1))\n",
       "  (1): ReLU()\n",
       "  (2): MaxPool2d(kernel_size=2, stride=2, padding=0, dilation=1, ceil_mode=False)\n",
       "  (3): Conv2d(16, 32, kernel_size=(5, 5), stride=(1, 1))\n",
       "  (4): ReLU()\n",
       "  (5): MaxPool2d(kernel_size=2, stride=2, padding=0, dilation=1, ceil_mode=False)\n",
       "  (6): Flatten(start_dim=1, end_dim=-1)\n",
       "  (7): Linear(in_features=512, out_features=10, bias=True)\n",
       ")"
      ]
     },
     "execution_count": 14,
     "metadata": {},
     "output_type": "execute_result"
    }
   ],
   "source": [
    "model = torch.load('./model_cnn_mnist.torch')\n",
    "model"
   ]
  },
  {
   "cell_type": "markdown",
   "metadata": {},
   "source": [
    "---\n",
    "## Model Predict"
   ]
  },
  {
   "cell_type": "code",
   "execution_count": 10,
   "metadata": {},
   "outputs": [
    {
     "name": "stdout",
     "output_type": "stream",
     "text": [
      "Resultado: tensor(8)\n"
     ]
    }
   ],
   "source": [
    "path = './test_e.jpg'\n",
    "img = PIL.Image.open(path).convert('L')\n",
    "img = PIL.ImageOps.isnvert(img)\n",
    "img_width = 28\n",
    "img = transforms.Resize((img_width, img_width))(img)\n",
    "img = transforms.ToTensor()(img)\n",
    "img_tensor = img.view(1,1,img_width,img_width)\n",
    "# print(img_tensor.mean())\n",
    "# # Atribua 1 aos elementos diferentes de zero\n",
    "# img_tensor[ (img_tensor != 0)] = 1\n",
    "# print(img_tensor.mean())\n",
    "\n",
    "\n",
    "with torch.no_grad():\n",
    "    y = model(img_tensor)\n",
    "    y = torch.nn.functional.softmax(y, dim=1)\n",
    "print('Resultado:', torch.argmax(y))"
   ]
  },
  {
   "cell_type": "code",
   "execution_count": null,
   "metadata": {},
   "outputs": [],
   "source": []
  }
 ],
 "metadata": {
  "kernelspec": {
   "display_name": "Python 3",
   "language": "python",
   "name": "python3"
  },
  "language_info": {
   "codemirror_mode": {
    "name": "ipython",
    "version": 3
   },
   "file_extension": ".py",
   "mimetype": "text/x-python",
   "name": "python",
   "nbconvert_exporter": "python",
   "pygments_lexer": "ipython3",
   "version": "3.10.13"
  }
 },
 "nbformat": 4,
 "nbformat_minor": 2
}
