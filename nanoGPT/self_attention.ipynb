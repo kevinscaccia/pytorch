{
 "cells": [
  {
   "cell_type": "code",
   "execution_count": 2,
   "metadata": {},
   "outputs": [],
   "source": [
    "import numpy as np\n",
    "import torch\n",
    "from torch import nn\n",
    "import torch.nn.functional as F"
   ]
  },
  {
   "cell_type": "markdown",
   "metadata": {},
   "source": [
    "## Self Attention (Intuition)"
   ]
  },
  {
   "cell_type": "code",
   "execution_count": 62,
   "metadata": {},
   "outputs": [
    {
     "name": "stdout",
     "output_type": "stream",
     "text": [
      "tensor([[1., 0., 0.],\n",
      "        [1., 1., 0.],\n",
      "        [1., 1., 1.]])\n",
      "tensor([[2., 7.],\n",
      "        [6., 4.],\n",
      "        [6., 5.]])\n",
      "tensor([[1.0000, 0.0000, 0.0000],\n",
      "        [0.5000, 0.5000, 0.0000],\n",
      "        [0.3333, 0.3333, 0.3333]])\n",
      "Soma dos valores\n",
      "tensor([[ 2.,  7.],\n",
      "        [ 8., 11.],\n",
      "        [14., 16.]])\n",
      "Média dos valores\n",
      "tensor([[ 2.,  7.],\n",
      "        [ 8., 11.],\n",
      "        [14., 16.]])\n"
     ]
    }
   ],
   "source": [
    "torch.manual_seed(42)\n",
    "\n",
    "a = torch.tril(torch.ones((3,3))).float()\n",
    "a_norm = a / a.sum(dim=1, keepdim=True)\n",
    "b = torch.randint(0, 10, (3,2)).float()\n",
    "print(a)\n",
    "print(b)\n",
    "print(a_norm)\n",
    "print('Soma dos valores')\n",
    "c = a @ b\n",
    "print(c)\n",
    "#\n",
    "print('Média dos valores')\n",
    "c = a @ b\n",
    "print(c)"
   ]
  },
  {
   "cell_type": "code",
   "execution_count": 35,
   "metadata": {},
   "outputs": [
    {
     "name": "stdout",
     "output_type": "stream",
     "text": [
      "tensor([[1, 1, 1, 1, 1],\n",
      "        [1, 1, 1, 1, 1],\n",
      "        [1, 1, 1, 1, 1],\n",
      "        [1, 1, 1, 1, 1],\n",
      "        [1, 1, 1, 1, 1]])\n",
      "tensor([[1, 0, 0, 0, 0],\n",
      "        [1, 1, 0, 0, 0],\n",
      "        [1, 1, 1, 0, 0],\n",
      "        [1, 1, 1, 1, 0],\n",
      "        [1, 1, 1, 1, 1]])\n",
      "torch.Size([1, 2, 5]) torch.Size([5, 5])\n",
      "tensor([[[5, 4, 3, 3, 1],\n",
      "         [9, 7, 6, 6, 3]]])\n"
     ]
    }
   ],
   "source": [
    "B = 1\n",
    "T = 5\n",
    "C = 2\n",
    "triangular = torch.ones((T,T), dtype=torch.long)\n",
    "print(triangular)\n",
    "triangular = torch.tril(triangular)\n",
    "print(triangular)\n",
    "\n",
    "x = torch.randint(0,4, (B, T, C), dtype=torch.long) # batches, time steps, channels(encoding every token)\n",
    "x = x.transpose(1, 2)\n",
    "print(x.shape, triangular.shape)\n",
    "print(x @ triangular) # (B, T, C) x (T,T) = (B, T, T)\n"
   ]
  },
  {
   "cell_type": "code",
   "execution_count": 13,
   "metadata": {},
   "outputs": [
    {
     "data": {
      "text/plain": [
       "tensor([[1., 0., 0., 0., 0., 0., 0., 0.],\n",
       "        [1., 1., 0., 0., 0., 0., 0., 0.],\n",
       "        [1., 1., 1., 0., 0., 0., 0., 0.],\n",
       "        [1., 1., 1., 1., 0., 0., 0., 0.],\n",
       "        [1., 1., 1., 1., 1., 0., 0., 0.],\n",
       "        [1., 1., 1., 1., 1., 1., 0., 0.],\n",
       "        [1., 1., 1., 1., 1., 1., 1., 0.],\n",
       "        [1., 1., 1., 1., 1., 1., 1., 1.]])"
      ]
     },
     "execution_count": 13,
     "metadata": {},
     "output_type": "execute_result"
    }
   ],
   "source": []
  },
  {
   "cell_type": "code",
   "execution_count": 7,
   "metadata": {},
   "outputs": [
    {
     "data": {
      "text/plain": [
       "tensor([[5, 5],\n",
       "        [8, 6],\n",
       "        [7, 7],\n",
       "        [2, 9],\n",
       "        [2, 5],\n",
       "        [7, 1],\n",
       "        [6, 3],\n",
       "        [6, 3]])"
      ]
     },
     "execution_count": 7,
     "metadata": {},
     "output_type": "execute_result"
    }
   ],
   "source": [
    "x[0]"
   ]
  },
  {
   "cell_type": "markdown",
   "metadata": {},
   "source": [
    "### Self-Attention Most Simple Code"
   ]
  },
  {
   "cell_type": "code",
   "execution_count": 39,
   "metadata": {},
   "outputs": [
    {
     "name": "stdout",
     "output_type": "stream",
     "text": [
      "Input shape: torch.Size([4, 8, 32])\n",
      "query and key shape: torch.Size([32, 16])\n",
      "q and k shape: torch.Size([4, 8, 16])\n",
      "weights_affinity shape: torch.Size([4, 8, 8])\n",
      "output shape: torch.Size([4, 8, 16])\n"
     ]
    }
   ],
   "source": [
    "torch.manual_seed(1337)\n",
    "\n",
    "# 4 batches of tokens, sequences of 8 tokens where each token is represented by 32 values(encoded).\n",
    "B, T, C = 4, 8, 32\n",
    "input = torch.randn(B,T,C)\n",
    "print(f'Input shape: {input.shape}')\n",
    "\n",
    "head_size = 16\n",
    "\n",
    "key_layer = nn.Linear(C, head_size, bias=False)\n",
    "query_layer = nn.Linear(C, head_size, bias=False)\n",
    "value = nn.Linear(C, head_size, bias=False)\n",
    "print(f'query and key shape: {list(query_layer.parameters())[0].T.shape}')\n",
    "# para cada timestamp, aplica a camada e produz uma query, com base na codificacao do proprio token, independentemente\n",
    "q = query_layer(input)  # (B, T, head_size)\n",
    "k = key_layer(input) # (B, T, head_size)\n",
    "print(f'q and k shape: {q.shape}')\n",
    "# afinidade entre query and key\n",
    "weights_affinity = q @ k.transpose(-1, -2) # (B, T, head_size) # (B, head_size, T)\n",
    "# as operacoes a seguir garantem que nao consideremos os tokens futuros a um instante t\n",
    "# e tambem normalizam os pesos de cada um dos tokens anteriores,\n",
    "#### --> caso não houvesse a necessidade de somente considerar tokens passados,\n",
    "#### --> ou seja, podemos considerar os tokens do futuro, anteriores e o atual\n",
    "#### --> ex: classificacao de sentimento. poderiamos remover a linha de masking\n",
    "#### --> nesse caso teriamos um encoder\n",
    "#### --> encoder: não possui masking.\n",
    "#### --> decoder: possui masking\n",
    "#### -->    decoder: chamado assim porque temos um formato auto-regressivo, considerando tokens do passado somente e fazendo inferencia para futuro.\n",
    "\n",
    "\n",
    "# for every token(timestap) we have afinity of it to every other token (T, T)\n",
    "print(f'weights_affinity shape: {weights_affinity.shape}')\n",
    "# remove future information (masking)\n",
    "tril = torch.tril(torch.ones(T, T)) # matriz triangular\n",
    "# substitui 0 por -inf\n",
    "weights_affinity = weights_affinity.masked_fill(tril == 0, float('-inf'))\n",
    "# normaliza com softmax\n",
    "weights_affinity = F.softmax(weights_affinity, dim=-1)\n",
    "weights_affinity[0]\n",
    "\n",
    "\n",
    "\n",
    "# aplica a afinidade no input\n",
    "# output = weights_affinity @ input\n",
    " # aplica uma camada de pesos no input, antes de aplicar as afinidades\n",
    "output = weights_affinity @ value(input)\n",
    "# as matrizes query e key sao usadas para adiquirir o contexto dos tokens anteriores\n",
    "# e a relacao com o token atual. A matriz value nao depende dos tokens anteriores\n",
    "# ela guarda informacao do token atual, algum tipo de 'significado' especifico do token\n",
    "print(f'output shape: {output.shape}')\n",
    "# attention serve como um mecanismo de comunicação entre os tokens anteriores e o token atual. \n"
   ]
  },
  {
   "cell_type": "markdown",
   "metadata": {},
   "source": [
    "## SelfAttention Module (Reusable in our Nets)"
   ]
  },
  {
   "cell_type": "code",
   "execution_count": 36,
   "metadata": {},
   "outputs": [
    {
     "data": {
      "text/plain": [
       "tensor([[1., 0., 0.],\n",
       "        [1., 1., 0.],\n",
       "        [1., 1., 1.]])"
      ]
     },
     "execution_count": 36,
     "metadata": {},
     "output_type": "execute_result"
    }
   ],
   "source": []
  },
  {
   "cell_type": "code",
   "execution_count": 51,
   "metadata": {},
   "outputs": [
    {
     "name": "stdout",
     "output_type": "stream",
     "text": [
      "Writing self_attention.py\n"
     ]
    }
   ],
   "source": [
    "%%writefile self_attention.py\n",
    "import torch\n",
    "from torch import nn\n",
    "import torch.nn.functional as F\n",
    "\n",
    "class SelfAttention(nn.Module):\n",
    "    def __init__(self, embedding_dim, head_size, block_size, masked=False):\n",
    "        super(SelfAttention, self).__init__()\n",
    "        #\n",
    "        self.query = nn.Linear(embedding_dim, head_size, bias=False)\n",
    "        self.key = nn.Linear(embedding_dim, head_size, bias=False)\n",
    "        self.value = nn.Linear(embedding_dim, head_size, bias=False)\n",
    "        self.masked = masked\n",
    "        # masked attention (decoder)\n",
    "        self.register_buffer('tril', torch.tril(torch.ones(block_size, block_size)))\n",
    "\n",
    "    \n",
    "    def forward(self, x):\n",
    "        B, T, C = x.shape\n",
    "        q = self.query(x) # (B, T, C) @ (C, H) ->  (B, T, H)\n",
    "        k = self.query(x) # (B, T, C) @ (C, H) ->  (B, T, H)\n",
    "        a_weights = q @ k.transpose(-1, -2) # (B, T, H) @ (B, T, H) -> (B, T, T) (attention scores)\n",
    "        # attention_weights shape is CxC -> representing weights from each C token to all others C\n",
    "        a_weights = a_weights / (C**(0.5))# scale factor (scaled dot product attention - sqrt(C))\n",
    "        if self.masked:\n",
    "            # uses the masking for dont communicate with the future tokens(replace by -inf to apply softmax)\n",
    "            a_weights = a_weights.masked_fill(self.tril == 0, float('-inf'))\n",
    "        #\n",
    "        a_weights = torch.softmax(a_weights, dim=-1) # normalize in the Channels(embedding dim) dimension\n",
    "        y = a_weights @ self.value(x) # (B, T, T) @ (B, T, C) -> (B, T, C)\n",
    "        return y\n"
   ]
  },
  {
   "cell_type": "code",
   "execution_count": 46,
   "metadata": {},
   "outputs": [
    {
     "name": "stdout",
     "output_type": "stream",
     "text": [
      "x: torch.Size([4, 8, 2])\n",
      "torch.Size([4, 8, 7]) = torch.Size([4, 8, 8]) @ torch.Size([4, 8, 7])\n",
      "y: torch.Size([4, 8, 7])\n"
     ]
    }
   ],
   "source": [
    "batch_size = 4\n",
    "seq_len = 8\n",
    "embedding_dim = 2\n",
    "head_size = 7\n",
    "\n",
    "attention_layer = SelfAttention(embedding_dim, head_size, seq_len, masked=True)\n",
    "\n",
    "x = torch.randn(batch_size, seq_len, embedding_dim)\n",
    "print('x:', x.shape)\n",
    "y = attention_layer(x)\n",
    "print('y:', y.shape)"
   ]
  }
 ],
 "metadata": {
  "kernelspec": {
   "display_name": "pytorch",
   "language": "python",
   "name": "python3"
  },
  "language_info": {
   "codemirror_mode": {
    "name": "ipython",
    "version": 3
   },
   "file_extension": ".py",
   "mimetype": "text/x-python",
   "name": "python",
   "nbconvert_exporter": "python",
   "pygments_lexer": "ipython3",
   "version": "3.10.13"
  }
 },
 "nbformat": 4,
 "nbformat_minor": 2
}
